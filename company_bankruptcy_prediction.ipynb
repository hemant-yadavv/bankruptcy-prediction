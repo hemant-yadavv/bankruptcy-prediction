{
  "metadata": {
    "kernelspec": {
      "display_name": "Python 3 (ipykernel)",
      "language": "python",
      "name": "python3"
    },
    "language_info": {
      "codemirror_mode": {
        "name": "ipython",
        "version": 3
      },
      "file_extension": ".py",
      "mimetype": "text/x-python",
      "name": "python",
      "nbconvert_exporter": "python",
      "pygments_lexer": "ipython3",
      "version": "3.9.12"
    },
    "colab": {
      "provenance": [],
      "include_colab_link": true
    }
  },
  "nbformat_minor": 5,
  "nbformat": 4,
  "cells": [
    {
      "cell_type": "markdown",
      "metadata": {
        "id": "view-in-github",
        "colab_type": "text"
      },
      "source": [
        "<a href=\"https://colab.research.google.com/github/hemant-yadavv/bankruptcy-prediction/blob/main/company_bankruptcy_prediction.ipynb\" target=\"_parent\"><img src=\"https://colab.research.google.com/assets/colab-badge.svg\" alt=\"Open In Colab\"/></a>"
      ]
    },
    {
      "cell_type": "markdown",
      "source": [
        "# Prepare Data"
      ],
      "metadata": {
        "id": "br2v9IS7_WkN"
      },
      "id": "br2v9IS7_WkN"
    },
    {
      "cell_type": "markdown",
      "source": [
        "## Import"
      ],
      "metadata": {
        "id": "REYB6Wv8_WkS"
      },
      "id": "REYB6Wv8_WkS"
    },
    {
      "cell_type": "code",
      "source": [
        "import pickle\n",
        "import matplotlib.pyplot as plt\n",
        "import pandas as pd\n",
        "import numpy as np\n",
        "import seaborn as sns\n",
        "from imblearn.over_sampling import RandomOverSampler\n",
        "from sklearn.impute import SimpleImputer\n",
        "from sklearn.ensemble import RandomForestClassifier\n",
        "from sklearn.metrics import ConfusionMatrixDisplay , classification_report ,f1_score\n",
        "from sklearn.model_selection import train_test_split , GridSearchCV\n",
        "from sklearn.pipeline import make_pipeline"
      ],
      "metadata": {
        "ExecuteTime": {
          "end_time": "2023-03-30T22:46:42.432127Z",
          "start_time": "2023-03-30T22:46:40.731266Z"
        },
        "id": "kuxyl2Sv_WkU"
      },
      "execution_count": null,
      "outputs": [],
      "id": "kuxyl2Sv_WkU"
    },
    {
      "cell_type": "code",
      "source": [
        "df = pd.read_csv(\"data.csv\")\n",
        "df.head()"
      ],
      "metadata": {
        "ExecuteTime": {
          "end_time": "2023-03-30T22:46:42.557464Z",
          "start_time": "2023-03-30T22:46:42.433693Z"
        },
        "id": "lRECkxwY_WkW",
        "outputId": "ec3693e1-fdaa-475d-8fac-fb223ae1e825"
      },
      "execution_count": null,
      "outputs": [
        {
          "execution_count": 2,
          "output_type": "execute_result",
          "data": {
            "text/html": [
              "<div>\n",
              "<style scoped>\n",
              "    .dataframe tbody tr th:only-of-type {\n",
              "        vertical-align: middle;\n",
              "    }\n",
              "\n",
              "    .dataframe tbody tr th {\n",
              "        vertical-align: top;\n",
              "    }\n",
              "\n",
              "    .dataframe thead th {\n",
              "        text-align: right;\n",
              "    }\n",
              "</style>\n",
              "<table border=\"1\" class=\"dataframe\">\n",
              "  <thead>\n",
              "    <tr style=\"text-align: right;\">\n",
              "      <th></th>\n",
              "      <th>Bankrupt?</th>\n",
              "      <th>ROA(C) before interest and depreciation before interest</th>\n",
              "      <th>ROA(A) before interest and % after tax</th>\n",
              "      <th>ROA(B) before interest and depreciation after tax</th>\n",
              "      <th>Operating Gross Margin</th>\n",
              "      <th>Realized Sales Gross Margin</th>\n",
              "      <th>Operating Profit Rate</th>\n",
              "      <th>Pre-tax net Interest Rate</th>\n",
              "      <th>After-tax net Interest Rate</th>\n",
              "      <th>Non-industry income and expenditure/revenue</th>\n",
              "      <th>...</th>\n",
              "      <th>Net Income to Total Assets</th>\n",
              "      <th>Total assets to GNP price</th>\n",
              "      <th>No-credit Interval</th>\n",
              "      <th>Gross Profit to Sales</th>\n",
              "      <th>Net Income to Stockholder's Equity</th>\n",
              "      <th>Liability to Equity</th>\n",
              "      <th>Degree of Financial Leverage (DFL)</th>\n",
              "      <th>Interest Coverage Ratio (Interest expense to EBIT)</th>\n",
              "      <th>Net Income Flag</th>\n",
              "      <th>Equity to Liability</th>\n",
              "    </tr>\n",
              "  </thead>\n",
              "  <tbody>\n",
              "    <tr>\n",
              "      <th>0</th>\n",
              "      <td>1</td>\n",
              "      <td>0.370594</td>\n",
              "      <td>0.424389</td>\n",
              "      <td>0.405750</td>\n",
              "      <td>0.601457</td>\n",
              "      <td>0.601457</td>\n",
              "      <td>0.998969</td>\n",
              "      <td>0.796887</td>\n",
              "      <td>0.808809</td>\n",
              "      <td>0.302646</td>\n",
              "      <td>...</td>\n",
              "      <td>0.716845</td>\n",
              "      <td>0.009219</td>\n",
              "      <td>0.622879</td>\n",
              "      <td>0.601453</td>\n",
              "      <td>0.827890</td>\n",
              "      <td>0.290202</td>\n",
              "      <td>0.026601</td>\n",
              "      <td>0.564050</td>\n",
              "      <td>1</td>\n",
              "      <td>0.016469</td>\n",
              "    </tr>\n",
              "    <tr>\n",
              "      <th>1</th>\n",
              "      <td>1</td>\n",
              "      <td>0.464291</td>\n",
              "      <td>0.538214</td>\n",
              "      <td>0.516730</td>\n",
              "      <td>0.610235</td>\n",
              "      <td>0.610235</td>\n",
              "      <td>0.998946</td>\n",
              "      <td>0.797380</td>\n",
              "      <td>0.809301</td>\n",
              "      <td>0.303556</td>\n",
              "      <td>...</td>\n",
              "      <td>0.795297</td>\n",
              "      <td>0.008323</td>\n",
              "      <td>0.623652</td>\n",
              "      <td>0.610237</td>\n",
              "      <td>0.839969</td>\n",
              "      <td>0.283846</td>\n",
              "      <td>0.264577</td>\n",
              "      <td>0.570175</td>\n",
              "      <td>1</td>\n",
              "      <td>0.020794</td>\n",
              "    </tr>\n",
              "    <tr>\n",
              "      <th>2</th>\n",
              "      <td>1</td>\n",
              "      <td>0.426071</td>\n",
              "      <td>0.499019</td>\n",
              "      <td>0.472295</td>\n",
              "      <td>0.601450</td>\n",
              "      <td>0.601364</td>\n",
              "      <td>0.998857</td>\n",
              "      <td>0.796403</td>\n",
              "      <td>0.808388</td>\n",
              "      <td>0.302035</td>\n",
              "      <td>...</td>\n",
              "      <td>0.774670</td>\n",
              "      <td>0.040003</td>\n",
              "      <td>0.623841</td>\n",
              "      <td>0.601449</td>\n",
              "      <td>0.836774</td>\n",
              "      <td>0.290189</td>\n",
              "      <td>0.026555</td>\n",
              "      <td>0.563706</td>\n",
              "      <td>1</td>\n",
              "      <td>0.016474</td>\n",
              "    </tr>\n",
              "    <tr>\n",
              "      <th>3</th>\n",
              "      <td>1</td>\n",
              "      <td>0.399844</td>\n",
              "      <td>0.451265</td>\n",
              "      <td>0.457733</td>\n",
              "      <td>0.583541</td>\n",
              "      <td>0.583541</td>\n",
              "      <td>0.998700</td>\n",
              "      <td>0.796967</td>\n",
              "      <td>0.808966</td>\n",
              "      <td>0.303350</td>\n",
              "      <td>...</td>\n",
              "      <td>0.739555</td>\n",
              "      <td>0.003252</td>\n",
              "      <td>0.622929</td>\n",
              "      <td>0.583538</td>\n",
              "      <td>0.834697</td>\n",
              "      <td>0.281721</td>\n",
              "      <td>0.026697</td>\n",
              "      <td>0.564663</td>\n",
              "      <td>1</td>\n",
              "      <td>0.023982</td>\n",
              "    </tr>\n",
              "    <tr>\n",
              "      <th>4</th>\n",
              "      <td>1</td>\n",
              "      <td>0.465022</td>\n",
              "      <td>0.538432</td>\n",
              "      <td>0.522298</td>\n",
              "      <td>0.598783</td>\n",
              "      <td>0.598783</td>\n",
              "      <td>0.998973</td>\n",
              "      <td>0.797366</td>\n",
              "      <td>0.809304</td>\n",
              "      <td>0.303475</td>\n",
              "      <td>...</td>\n",
              "      <td>0.795016</td>\n",
              "      <td>0.003878</td>\n",
              "      <td>0.623521</td>\n",
              "      <td>0.598782</td>\n",
              "      <td>0.839973</td>\n",
              "      <td>0.278514</td>\n",
              "      <td>0.024752</td>\n",
              "      <td>0.575617</td>\n",
              "      <td>1</td>\n",
              "      <td>0.035490</td>\n",
              "    </tr>\n",
              "  </tbody>\n",
              "</table>\n",
              "<p>5 rows × 96 columns</p>\n",
              "</div>"
            ],
            "text/plain": [
              "   Bankrupt?   ROA(C) before interest and depreciation before interest  \\\n",
              "0          1                                           0.370594          \n",
              "1          1                                           0.464291          \n",
              "2          1                                           0.426071          \n",
              "3          1                                           0.399844          \n",
              "4          1                                           0.465022          \n",
              "\n",
              "    ROA(A) before interest and % after tax  \\\n",
              "0                                 0.424389   \n",
              "1                                 0.538214   \n",
              "2                                 0.499019   \n",
              "3                                 0.451265   \n",
              "4                                 0.538432   \n",
              "\n",
              "    ROA(B) before interest and depreciation after tax  \\\n",
              "0                                           0.405750    \n",
              "1                                           0.516730    \n",
              "2                                           0.472295    \n",
              "3                                           0.457733    \n",
              "4                                           0.522298    \n",
              "\n",
              "    Operating Gross Margin   Realized Sales Gross Margin  \\\n",
              "0                 0.601457                      0.601457   \n",
              "1                 0.610235                      0.610235   \n",
              "2                 0.601450                      0.601364   \n",
              "3                 0.583541                      0.583541   \n",
              "4                 0.598783                      0.598783   \n",
              "\n",
              "    Operating Profit Rate   Pre-tax net Interest Rate  \\\n",
              "0                0.998969                    0.796887   \n",
              "1                0.998946                    0.797380   \n",
              "2                0.998857                    0.796403   \n",
              "3                0.998700                    0.796967   \n",
              "4                0.998973                    0.797366   \n",
              "\n",
              "    After-tax net Interest Rate   Non-industry income and expenditure/revenue  \\\n",
              "0                      0.808809                                      0.302646   \n",
              "1                      0.809301                                      0.303556   \n",
              "2                      0.808388                                      0.302035   \n",
              "3                      0.808966                                      0.303350   \n",
              "4                      0.809304                                      0.303475   \n",
              "\n",
              "   ...   Net Income to Total Assets   Total assets to GNP price  \\\n",
              "0  ...                     0.716845                    0.009219   \n",
              "1  ...                     0.795297                    0.008323   \n",
              "2  ...                     0.774670                    0.040003   \n",
              "3  ...                     0.739555                    0.003252   \n",
              "4  ...                     0.795016                    0.003878   \n",
              "\n",
              "    No-credit Interval   Gross Profit to Sales  \\\n",
              "0             0.622879                0.601453   \n",
              "1             0.623652                0.610237   \n",
              "2             0.623841                0.601449   \n",
              "3             0.622929                0.583538   \n",
              "4             0.623521                0.598782   \n",
              "\n",
              "    Net Income to Stockholder's Equity   Liability to Equity  \\\n",
              "0                             0.827890              0.290202   \n",
              "1                             0.839969              0.283846   \n",
              "2                             0.836774              0.290189   \n",
              "3                             0.834697              0.281721   \n",
              "4                             0.839973              0.278514   \n",
              "\n",
              "    Degree of Financial Leverage (DFL)  \\\n",
              "0                             0.026601   \n",
              "1                             0.264577   \n",
              "2                             0.026555   \n",
              "3                             0.026697   \n",
              "4                             0.024752   \n",
              "\n",
              "    Interest Coverage Ratio (Interest expense to EBIT)   Net Income Flag  \\\n",
              "0                                           0.564050                   1   \n",
              "1                                           0.570175                   1   \n",
              "2                                           0.563706                   1   \n",
              "3                                           0.564663                   1   \n",
              "4                                           0.575617                   1   \n",
              "\n",
              "    Equity to Liability  \n",
              "0              0.016469  \n",
              "1              0.020794  \n",
              "2              0.016474  \n",
              "3              0.023982  \n",
              "4              0.035490  \n",
              "\n",
              "[5 rows x 96 columns]"
            ]
          },
          "metadata": {}
        }
      ],
      "id": "lRECkxwY_WkW"
    },
    {
      "cell_type": "code",
      "source": [
        "df.columns = [c.replace(' ', '_') for c in df.columns]\n",
        "df.head()"
      ],
      "metadata": {
        "ExecuteTime": {
          "end_time": "2023-03-30T22:46:42.588344Z",
          "start_time": "2023-03-30T22:46:42.559464Z"
        },
        "id": "NKsp4FFC_WkY",
        "outputId": "960c7556-9ee7-4a42-ce4e-a734dda91b65"
      },
      "execution_count": null,
      "outputs": [
        {
          "execution_count": 3,
          "output_type": "execute_result",
          "data": {
            "text/html": [
              "<div>\n",
              "<style scoped>\n",
              "    .dataframe tbody tr th:only-of-type {\n",
              "        vertical-align: middle;\n",
              "    }\n",
              "\n",
              "    .dataframe tbody tr th {\n",
              "        vertical-align: top;\n",
              "    }\n",
              "\n",
              "    .dataframe thead th {\n",
              "        text-align: right;\n",
              "    }\n",
              "</style>\n",
              "<table border=\"1\" class=\"dataframe\">\n",
              "  <thead>\n",
              "    <tr style=\"text-align: right;\">\n",
              "      <th></th>\n",
              "      <th>Bankrupt?</th>\n",
              "      <th>_ROA(C)_before_interest_and_depreciation_before_interest</th>\n",
              "      <th>_ROA(A)_before_interest_and_%_after_tax</th>\n",
              "      <th>_ROA(B)_before_interest_and_depreciation_after_tax</th>\n",
              "      <th>_Operating_Gross_Margin</th>\n",
              "      <th>_Realized_Sales_Gross_Margin</th>\n",
              "      <th>_Operating_Profit_Rate</th>\n",
              "      <th>_Pre-tax_net_Interest_Rate</th>\n",
              "      <th>_After-tax_net_Interest_Rate</th>\n",
              "      <th>_Non-industry_income_and_expenditure/revenue</th>\n",
              "      <th>...</th>\n",
              "      <th>_Net_Income_to_Total_Assets</th>\n",
              "      <th>_Total_assets_to_GNP_price</th>\n",
              "      <th>_No-credit_Interval</th>\n",
              "      <th>_Gross_Profit_to_Sales</th>\n",
              "      <th>_Net_Income_to_Stockholder's_Equity</th>\n",
              "      <th>_Liability_to_Equity</th>\n",
              "      <th>_Degree_of_Financial_Leverage_(DFL)</th>\n",
              "      <th>_Interest_Coverage_Ratio_(Interest_expense_to_EBIT)</th>\n",
              "      <th>_Net_Income_Flag</th>\n",
              "      <th>_Equity_to_Liability</th>\n",
              "    </tr>\n",
              "  </thead>\n",
              "  <tbody>\n",
              "    <tr>\n",
              "      <th>0</th>\n",
              "      <td>1</td>\n",
              "      <td>0.370594</td>\n",
              "      <td>0.424389</td>\n",
              "      <td>0.405750</td>\n",
              "      <td>0.601457</td>\n",
              "      <td>0.601457</td>\n",
              "      <td>0.998969</td>\n",
              "      <td>0.796887</td>\n",
              "      <td>0.808809</td>\n",
              "      <td>0.302646</td>\n",
              "      <td>...</td>\n",
              "      <td>0.716845</td>\n",
              "      <td>0.009219</td>\n",
              "      <td>0.622879</td>\n",
              "      <td>0.601453</td>\n",
              "      <td>0.827890</td>\n",
              "      <td>0.290202</td>\n",
              "      <td>0.026601</td>\n",
              "      <td>0.564050</td>\n",
              "      <td>1</td>\n",
              "      <td>0.016469</td>\n",
              "    </tr>\n",
              "    <tr>\n",
              "      <th>1</th>\n",
              "      <td>1</td>\n",
              "      <td>0.464291</td>\n",
              "      <td>0.538214</td>\n",
              "      <td>0.516730</td>\n",
              "      <td>0.610235</td>\n",
              "      <td>0.610235</td>\n",
              "      <td>0.998946</td>\n",
              "      <td>0.797380</td>\n",
              "      <td>0.809301</td>\n",
              "      <td>0.303556</td>\n",
              "      <td>...</td>\n",
              "      <td>0.795297</td>\n",
              "      <td>0.008323</td>\n",
              "      <td>0.623652</td>\n",
              "      <td>0.610237</td>\n",
              "      <td>0.839969</td>\n",
              "      <td>0.283846</td>\n",
              "      <td>0.264577</td>\n",
              "      <td>0.570175</td>\n",
              "      <td>1</td>\n",
              "      <td>0.020794</td>\n",
              "    </tr>\n",
              "    <tr>\n",
              "      <th>2</th>\n",
              "      <td>1</td>\n",
              "      <td>0.426071</td>\n",
              "      <td>0.499019</td>\n",
              "      <td>0.472295</td>\n",
              "      <td>0.601450</td>\n",
              "      <td>0.601364</td>\n",
              "      <td>0.998857</td>\n",
              "      <td>0.796403</td>\n",
              "      <td>0.808388</td>\n",
              "      <td>0.302035</td>\n",
              "      <td>...</td>\n",
              "      <td>0.774670</td>\n",
              "      <td>0.040003</td>\n",
              "      <td>0.623841</td>\n",
              "      <td>0.601449</td>\n",
              "      <td>0.836774</td>\n",
              "      <td>0.290189</td>\n",
              "      <td>0.026555</td>\n",
              "      <td>0.563706</td>\n",
              "      <td>1</td>\n",
              "      <td>0.016474</td>\n",
              "    </tr>\n",
              "    <tr>\n",
              "      <th>3</th>\n",
              "      <td>1</td>\n",
              "      <td>0.399844</td>\n",
              "      <td>0.451265</td>\n",
              "      <td>0.457733</td>\n",
              "      <td>0.583541</td>\n",
              "      <td>0.583541</td>\n",
              "      <td>0.998700</td>\n",
              "      <td>0.796967</td>\n",
              "      <td>0.808966</td>\n",
              "      <td>0.303350</td>\n",
              "      <td>...</td>\n",
              "      <td>0.739555</td>\n",
              "      <td>0.003252</td>\n",
              "      <td>0.622929</td>\n",
              "      <td>0.583538</td>\n",
              "      <td>0.834697</td>\n",
              "      <td>0.281721</td>\n",
              "      <td>0.026697</td>\n",
              "      <td>0.564663</td>\n",
              "      <td>1</td>\n",
              "      <td>0.023982</td>\n",
              "    </tr>\n",
              "    <tr>\n",
              "      <th>4</th>\n",
              "      <td>1</td>\n",
              "      <td>0.465022</td>\n",
              "      <td>0.538432</td>\n",
              "      <td>0.522298</td>\n",
              "      <td>0.598783</td>\n",
              "      <td>0.598783</td>\n",
              "      <td>0.998973</td>\n",
              "      <td>0.797366</td>\n",
              "      <td>0.809304</td>\n",
              "      <td>0.303475</td>\n",
              "      <td>...</td>\n",
              "      <td>0.795016</td>\n",
              "      <td>0.003878</td>\n",
              "      <td>0.623521</td>\n",
              "      <td>0.598782</td>\n",
              "      <td>0.839973</td>\n",
              "      <td>0.278514</td>\n",
              "      <td>0.024752</td>\n",
              "      <td>0.575617</td>\n",
              "      <td>1</td>\n",
              "      <td>0.035490</td>\n",
              "    </tr>\n",
              "  </tbody>\n",
              "</table>\n",
              "<p>5 rows × 96 columns</p>\n",
              "</div>"
            ],
            "text/plain": [
              "   Bankrupt?  _ROA(C)_before_interest_and_depreciation_before_interest  \\\n",
              "0          1                                           0.370594          \n",
              "1          1                                           0.464291          \n",
              "2          1                                           0.426071          \n",
              "3          1                                           0.399844          \n",
              "4          1                                           0.465022          \n",
              "\n",
              "   _ROA(A)_before_interest_and_%_after_tax  \\\n",
              "0                                 0.424389   \n",
              "1                                 0.538214   \n",
              "2                                 0.499019   \n",
              "3                                 0.451265   \n",
              "4                                 0.538432   \n",
              "\n",
              "   _ROA(B)_before_interest_and_depreciation_after_tax  \\\n",
              "0                                           0.405750    \n",
              "1                                           0.516730    \n",
              "2                                           0.472295    \n",
              "3                                           0.457733    \n",
              "4                                           0.522298    \n",
              "\n",
              "   _Operating_Gross_Margin  _Realized_Sales_Gross_Margin  \\\n",
              "0                 0.601457                      0.601457   \n",
              "1                 0.610235                      0.610235   \n",
              "2                 0.601450                      0.601364   \n",
              "3                 0.583541                      0.583541   \n",
              "4                 0.598783                      0.598783   \n",
              "\n",
              "   _Operating_Profit_Rate  _Pre-tax_net_Interest_Rate  \\\n",
              "0                0.998969                    0.796887   \n",
              "1                0.998946                    0.797380   \n",
              "2                0.998857                    0.796403   \n",
              "3                0.998700                    0.796967   \n",
              "4                0.998973                    0.797366   \n",
              "\n",
              "   _After-tax_net_Interest_Rate  _Non-industry_income_and_expenditure/revenue  \\\n",
              "0                      0.808809                                      0.302646   \n",
              "1                      0.809301                                      0.303556   \n",
              "2                      0.808388                                      0.302035   \n",
              "3                      0.808966                                      0.303350   \n",
              "4                      0.809304                                      0.303475   \n",
              "\n",
              "   ...  _Net_Income_to_Total_Assets  _Total_assets_to_GNP_price  \\\n",
              "0  ...                     0.716845                    0.009219   \n",
              "1  ...                     0.795297                    0.008323   \n",
              "2  ...                     0.774670                    0.040003   \n",
              "3  ...                     0.739555                    0.003252   \n",
              "4  ...                     0.795016                    0.003878   \n",
              "\n",
              "   _No-credit_Interval  _Gross_Profit_to_Sales  \\\n",
              "0             0.622879                0.601453   \n",
              "1             0.623652                0.610237   \n",
              "2             0.623841                0.601449   \n",
              "3             0.622929                0.583538   \n",
              "4             0.623521                0.598782   \n",
              "\n",
              "   _Net_Income_to_Stockholder's_Equity  _Liability_to_Equity  \\\n",
              "0                             0.827890              0.290202   \n",
              "1                             0.839969              0.283846   \n",
              "2                             0.836774              0.290189   \n",
              "3                             0.834697              0.281721   \n",
              "4                             0.839973              0.278514   \n",
              "\n",
              "   _Degree_of_Financial_Leverage_(DFL)  \\\n",
              "0                             0.026601   \n",
              "1                             0.264577   \n",
              "2                             0.026555   \n",
              "3                             0.026697   \n",
              "4                             0.024752   \n",
              "\n",
              "   _Interest_Coverage_Ratio_(Interest_expense_to_EBIT)  _Net_Income_Flag  \\\n",
              "0                                           0.564050                   1   \n",
              "1                                           0.570175                   1   \n",
              "2                                           0.563706                   1   \n",
              "3                                           0.564663                   1   \n",
              "4                                           0.575617                   1   \n",
              "\n",
              "   _Equity_to_Liability  \n",
              "0              0.016469  \n",
              "1              0.020794  \n",
              "2              0.016474  \n",
              "3              0.023982  \n",
              "4              0.035490  \n",
              "\n",
              "[5 rows x 96 columns]"
            ]
          },
          "metadata": {}
        }
      ],
      "id": "NKsp4FFC_WkY"
    },
    {
      "cell_type": "markdown",
      "source": [
        "## Explore"
      ],
      "metadata": {
        "id": "UNskOdk-_WkY"
      },
      "id": "UNskOdk-_WkY"
    },
    {
      "cell_type": "code",
      "source": [
        "df.info()"
      ],
      "metadata": {
        "ExecuteTime": {
          "end_time": "2023-03-30T22:46:42.619473Z",
          "start_time": "2023-03-30T22:46:42.590344Z"
        },
        "id": "H6BX_Xrs_WkZ",
        "outputId": "154907aa-a1d4-4f60-d5e9-b51ecf789466"
      },
      "execution_count": null,
      "outputs": [
        {
          "name": "stdout",
          "output_type": "stream",
          "text": "<class 'pandas.core.frame.DataFrame'>\n\nRangeIndex: 6819 entries, 0 to 6818\n\nData columns (total 96 columns):\n\n #   Column                                                    Non-Null Count  Dtype  \n\n---  ------                                                    --------------  -----  \n\n 0   Bankrupt?                                                 6819 non-null   int64  \n\n 1   _ROA(C)_before_interest_and_depreciation_before_interest  6819 non-null   float64\n\n 2   _ROA(A)_before_interest_and_%_after_tax                   6819 non-null   float64\n\n 3   _ROA(B)_before_interest_and_depreciation_after_tax        6819 non-null   float64\n\n 4   _Operating_Gross_Margin                                   6819 non-null   float64\n\n 5   _Realized_Sales_Gross_Margin                              6819 non-null   float64\n\n 6   _Operating_Profit_Rate                                    6819 non-null   float64\n\n 7   _Pre-tax_net_Interest_Rate                                6819 non-null   float64\n\n 8   _After-tax_net_Interest_Rate                              6819 non-null   float64\n\n 9   _Non-industry_income_and_expenditure/revenue              6819 non-null   float64\n\n 10  _Continuous_interest_rate_(after_tax)                     6819 non-null   float64\n\n 11  _Operating_Expense_Rate                                   6819 non-null   float64\n\n 12  _Research_and_development_expense_rate                    6819 non-null   float64\n\n 13  _Cash_flow_rate                                           6819 non-null   float64\n\n 14  _Interest-bearing_debt_interest_rate                      6819 non-null   float64\n\n 15  _Tax_rate_(A)                                             6819 non-null   float64\n\n 16  _Net_Value_Per_Share_(B)                                  6819 non-null   float64\n\n 17  _Net_Value_Per_Share_(A)                                  6819 non-null   float64\n\n 18  _Net_Value_Per_Share_(C)                                  6819 non-null   float64\n\n 19  _Persistent_EPS_in_the_Last_Four_Seasons                  6819 non-null   float64\n\n 20  _Cash_Flow_Per_Share                                      6819 non-null   float64\n\n 21  _Revenue_Per_Share_(Yuan_¥)                               6819 non-null   float64\n\n 22  _Operating_Profit_Per_Share_(Yuan_¥)                      6819 non-null   float64\n\n 23  _Per_Share_Net_profit_before_tax_(Yuan_¥)                 6819 non-null   float64\n\n 24  _Realized_Sales_Gross_Profit_Growth_Rate                  6819 non-null   float64\n\n 25  _Operating_Profit_Growth_Rate                             6819 non-null   float64\n\n 26  _After-tax_Net_Profit_Growth_Rate                         6819 non-null   float64\n\n 27  _Regular_Net_Profit_Growth_Rate                           6819 non-null   float64\n\n 28  _Continuous_Net_Profit_Growth_Rate                        6819 non-null   float64\n\n 29  _Total_Asset_Growth_Rate                                  6819 non-null   float64\n\n 30  _Net_Value_Growth_Rate                                    6819 non-null   float64\n\n 31  _Total_Asset_Return_Growth_Rate_Ratio                     6819 non-null   float64\n\n 32  _Cash_Reinvestment_%                                      6819 non-null   float64\n\n 33  _Current_Ratio                                            6819 non-null   float64\n\n 34  _Quick_Ratio                                              6819 non-null   float64\n\n 35  _Interest_Expense_Ratio                                   6819 non-null   float64\n\n 36  _Total_debt/Total_net_worth                               6819 non-null   float64\n\n 37  _Debt_ratio_%                                             6819 non-null   float64\n\n 38  _Net_worth/Assets                                         6819 non-null   float64\n\n 39  _Long-term_fund_suitability_ratio_(A)                     6819 non-null   float64\n\n 40  _Borrowing_dependency                                     6819 non-null   float64\n\n 41  _Contingent_liabilities/Net_worth                         6819 non-null   float64\n\n 42  _Operating_profit/Paid-in_capital                         6819 non-null   float64\n\n 43  _Net_profit_before_tax/Paid-in_capital                    6819 non-null   float64\n\n 44  _Inventory_and_accounts_receivable/Net_value              6819 non-null   float64\n\n 45  _Total_Asset_Turnover                                     6819 non-null   float64\n\n 46  _Accounts_Receivable_Turnover                             6819 non-null   float64\n\n 47  _Average_Collection_Days                                  6819 non-null   float64\n\n 48  _Inventory_Turnover_Rate_(times)                          6819 non-null   float64\n\n 49  _Fixed_Assets_Turnover_Frequency                          6819 non-null   float64\n\n 50  _Net_Worth_Turnover_Rate_(times)                          6819 non-null   float64\n\n 51  _Revenue_per_person                                       6819 non-null   float64\n\n 52  _Operating_profit_per_person                              6819 non-null   float64\n\n 53  _Allocation_rate_per_person                               6819 non-null   float64\n\n 54  _Working_Capital_to_Total_Assets                          6819 non-null   float64\n\n 55  _Quick_Assets/Total_Assets                                6819 non-null   float64\n\n 56  _Current_Assets/Total_Assets                              6819 non-null   float64\n\n 57  _Cash/Total_Assets                                        6819 non-null   float64\n\n 58  _Quick_Assets/Current_Liability                           6819 non-null   float64\n\n 59  _Cash/Current_Liability                                   6819 non-null   float64\n\n 60  _Current_Liability_to_Assets                              6819 non-null   float64\n\n 61  _Operating_Funds_to_Liability                             6819 non-null   float64\n\n 62  _Inventory/Working_Capital                                6819 non-null   float64\n\n 63  _Inventory/Current_Liability                              6819 non-null   float64\n\n 64  _Current_Liabilities/Liability                            6819 non-null   float64\n\n 65  _Working_Capital/Equity                                   6819 non-null   float64\n\n 66  _Current_Liabilities/Equity                               6819 non-null   float64\n\n 67  _Long-term_Liability_to_Current_Assets                    6819 non-null   float64\n\n 68  _Retained_Earnings_to_Total_Assets                        6819 non-null   float64\n\n 69  _Total_income/Total_expense                               6819 non-null   float64\n\n 70  _Total_expense/Assets                                     6819 non-null   float64\n\n 71  _Current_Asset_Turnover_Rate                              6819 non-null   float64\n\n 72  _Quick_Asset_Turnover_Rate                                6819 non-null   float64\n\n 73  _Working_capitcal_Turnover_Rate                           6819 non-null   float64\n\n 74  _Cash_Turnover_Rate                                       6819 non-null   float64\n\n 75  _Cash_Flow_to_Sales                                       6819 non-null   float64\n\n 76  _Fixed_Assets_to_Assets                                   6819 non-null   float64\n\n 77  _Current_Liability_to_Liability                           6819 non-null   float64\n\n 78  _Current_Liability_to_Equity                              6819 non-null   float64\n\n 79  _Equity_to_Long-term_Liability                            6819 non-null   float64\n\n 80  _Cash_Flow_to_Total_Assets                                6819 non-null   float64\n\n 81  _Cash_Flow_to_Liability                                   6819 non-null   float64\n\n 82  _CFO_to_Assets                                            6819 non-null   float64\n\n 83  _Cash_Flow_to_Equity                                      6819 non-null   float64\n\n 84  _Current_Liability_to_Current_Assets                      6819 non-null   float64\n\n 85  _Liability-Assets_Flag                                    6819 non-null   int64  \n\n 86  _Net_Income_to_Total_Assets                               6819 non-null   float64\n\n 87  _Total_assets_to_GNP_price                                6819 non-null   float64\n\n 88  _No-credit_Interval                                       6819 non-null   float64\n\n 89  _Gross_Profit_to_Sales                                    6819 non-null   float64\n\n 90  _Net_Income_to_Stockholder's_Equity                       6819 non-null   float64\n\n 91  _Liability_to_Equity                                      6819 non-null   float64\n\n 92  _Degree_of_Financial_Leverage_(DFL)                       6819 non-null   float64\n\n 93  _Interest_Coverage_Ratio_(Interest_expense_to_EBIT)       6819 non-null   float64\n\n 94  _Net_Income_Flag                                          6819 non-null   int64  \n\n 95  _Equity_to_Liability                                      6819 non-null   float64\n\ndtypes: float64(93), int64(3)\n\nmemory usage: 5.0 MB\n"
        }
      ],
      "id": "H6BX_Xrs_WkZ"
    },
    {
      "cell_type": "code",
      "source": [
        "(df.isna().sum() > 0).sum()"
      ],
      "metadata": {
        "ExecuteTime": {
          "end_time": "2023-03-30T22:46:42.635423Z",
          "start_time": "2023-03-30T22:46:42.620448Z"
        },
        "id": "4qtr8GzH_WkZ",
        "outputId": "b50be370-114d-4eeb-887a-64bcccade284"
      },
      "execution_count": null,
      "outputs": [
        {
          "execution_count": 5,
          "output_type": "execute_result",
          "data": {
            "text/plain": [
              "0"
            ]
          },
          "metadata": {}
        }
      ],
      "id": "4qtr8GzH_WkZ"
    },
    {
      "cell_type": "markdown",
      "source": [
        "## We want to calculate the relative frequencies of the classes"
      ],
      "metadata": {
        "id": "eqqz6Jbf_Wka"
      },
      "id": "eqqz6Jbf_Wka"
    },
    {
      "cell_type": "code",
      "source": [
        "df['Bankrupt?'].value_counts(normalize= True).plot(kind= 'bar')\n",
        "plt.xlabel(\"Bankrupt classes\")\n",
        "plt.ylabel(\"Frequancy\")\n",
        "plt.title(\"Class balance\");"
      ],
      "metadata": {
        "ExecuteTime": {
          "end_time": "2023-03-30T22:46:42.744535Z",
          "start_time": "2023-03-30T22:46:42.637431Z"
        },
        "id": "UIcs3-Zb_Wka",
        "outputId": "b3e4b661-ea3e-4ba0-a2db-f3d4b32998eb"
      },
      "execution_count": null,
      "outputs": [
        {
          "output_type": "display_data",
          "data": {
            "image/png": "[encoded data removed]",
            "text/plain": [
              "<Figure size 432x288 with 1 Axes>"
            ]
          },
          "metadata": {
            "needs_background": "light"
          }
        }
      ],
      "id": "UIcs3-Zb_Wka"
    },
    {
      "cell_type": "markdown",
      "source": [
        "## Now we show the distributions of the \"_Net_Income_to_Total_Assets\" column for both groups in the \"bankrupt\" column"
      ],
      "metadata": {
        "id": "soColcma_Wkb"
      },
      "id": "soColcma_Wkb"
    },
    {
      "cell_type": "code",
      "source": [
        "sns.boxenplot(x=\"Bankrupt?\" , y=\"_Net_Income_to_Total_Assets\" , data=df)\n",
        "plt.xlabel(\"Bankrupt classes\")\n",
        "plt.ylabel(\"Net Income to Total Assets\")\n",
        "plt.title(\"Distribution of Profit/ Net Income Ratio, by Class\");"
      ],
      "metadata": {
        "ExecuteTime": {
          "end_time": "2023-03-30T22:46:42.823386Z",
          "start_time": "2023-03-30T22:46:42.747448Z"
        },
        "id": "9H5IFPxd_Wkc",
        "outputId": "255d052a-7307-461c-a856-61fade05b641"
      },
      "execution_count": null,
      "outputs": [
        {
          "output_type": "display_data",
          "data": {
            "image/png": "[encoded data removed]",
            "text/plain": [
              "<Figure size 432x288 with 1 Axes>"
            ]
          },
          "metadata": {
            "needs_background": "light"
          }
        }
      ],
      "id": "9H5IFPxd_Wkc"
    },
    {
      "cell_type": "code",
      "source": [
        "df['_Net_Income_to_Total_Assets'].describe()"
      ],
      "metadata": {
        "ExecuteTime": {
          "end_time": "2023-03-30T22:46:42.838972Z",
          "start_time": "2023-03-30T22:46:42.825353Z"
        },
        "id": "G4H9AW8r_Wkc",
        "outputId": "d5a21054-4565-44b9-c0cc-6dd4d02f7317"
      },
      "execution_count": null,
      "outputs": [
        {
          "execution_count": 8,
          "output_type": "execute_result",
          "data": {
            "text/plain": [
              "count    6819.000000\n",
              "mean        0.807760\n",
              "std         0.040332\n",
              "min         0.000000\n",
              "25%         0.796750\n",
              "50%         0.810619\n",
              "75%         0.826455\n",
              "max         1.000000\n",
              "Name: _Net_Income_to_Total_Assets, dtype: float64"
            ]
          },
          "metadata": {}
        }
      ],
      "id": "G4H9AW8r_Wkc"
    },
    {
      "cell_type": "markdown",
      "source": [
        "## We create a histogram to check whether the distrbution is skewed significantly or not"
      ],
      "metadata": {
        "id": "HPAics5J_Wkc"
      },
      "id": "HPAics5J_Wkc"
    },
    {
      "cell_type": "code",
      "source": [
        "df[\"_Net_Income_to_Total_Assets\"].hist()\n",
        "plt.xlabel(\"Net Income to Total Assets\")\n",
        "plt.ylabel(\"count\")\n",
        "plt.title(\"Distrbution of Net Income to Total Assets Ratio\");"
      ],
      "metadata": {
        "ExecuteTime": {
          "end_time": "2023-03-30T22:46:42.932885Z",
          "start_time": "2023-03-30T22:46:42.840898Z"
        },
        "id": "WzUc4tLM_Wkc",
        "outputId": "b5cf5303-eeb1-4fac-e12e-2bf9f80f78b0"
      },
      "execution_count": null,
      "outputs": [
        {
          "output_type": "display_data",
          "data": {
            "image/png": "[encoded data removed]",
            "text/plain": [
              "<Figure size 432x288 with 1 Axes>"
            ]
          },
          "metadata": {
            "needs_background": "light"
          }
        }
      ],
      "id": "WzUc4tLM_Wkc"
    },
    {
      "cell_type": "code",
      "source": [
        "q1 , q9 = df['_Net_Income_to_Total_Assets'].quantile([0.1,0.9])\n",
        "mask = df[\"_Net_Income_to_Total_Assets\"].between(q1 , q9)\n",
        "sns.boxplot(x='Bankrupt?' , y='_Net_Income_to_Total_Assets', data= df[mask])\n",
        "plt.xlabel(\"Bankrupt\")\n",
        "plt.ylabel(\" Net Income to Total Assets\")\n",
        "plt.title(\"Distribution of Net Income to Total Assets Ratio, by Bankruptcy Status\");"
      ],
      "metadata": {
        "ExecuteTime": {
          "end_time": "2023-03-30T22:46:43.028100Z",
          "start_time": "2023-03-30T22:46:42.934892Z"
        },
        "id": "ni3nW2ay_Wkd",
        "outputId": "e075b84f-ac0b-45c5-861c-1837e2030918"
      },
      "execution_count": null,
      "outputs": [
        {
          "output_type": "display_data",
          "data": {
            "image/png": "[encoded data removed]",
            "text/plain": [
              "<Figure size 432x288 with 1 Axes>"
            ]
          },
          "metadata": {
            "needs_background": "light"
          }
        }
      ],
      "id": "ni3nW2ay_Wkd"
    },
    {
      "cell_type": "code",
      "source": [
        "df['_Borrowing_dependency'].hist();"
      ],
      "metadata": {
        "ExecuteTime": {
          "end_time": "2023-03-30T22:46:43.106529Z",
          "start_time": "2023-03-30T22:46:43.030063Z"
        },
        "id": "2zO5AfH2_Wke",
        "outputId": "cb1c545f-1ae1-40aa-8b23-ddbbeb60e207"
      },
      "execution_count": null,
      "outputs": [
        {
          "output_type": "display_data",
          "data": {
            "image/png": "[encoded data removed]",
            "text/plain": [
              "<Figure size 432x288 with 1 Axes>"
            ]
          },
          "metadata": {
            "needs_background": "light"
          }
        }
      ],
      "id": "2zO5AfH2_Wke"
    },
    {
      "cell_type": "code",
      "source": [
        "df['_Total_assets_to_GNP_price'].hist();"
      ],
      "metadata": {
        "ExecuteTime": {
          "end_time": "2023-03-30T22:46:43.248438Z",
          "start_time": "2023-03-30T22:46:43.108611Z"
        },
        "id": "OuM_hxFt_Wke",
        "outputId": "6ed29b6d-bcd3-44fb-9c29-e34fe37490d9"
      },
      "execution_count": null,
      "outputs": [
        {
          "output_type": "display_data",
          "data": {
            "image/png": "[encoded data removed]",
            "text/plain": [
              "<Figure size 432x288 with 1 Axes>"
            ]
          },
          "metadata": {
            "needs_background": "light"
          }
        }
      ],
      "id": "OuM_hxFt_Wke"
    },
    {
      "cell_type": "markdown",
      "source": [
        "## Multicollinearity"
      ],
      "metadata": {
        "id": "H93S733G_Wkg"
      },
      "id": "H93S733G_Wkg"
    },
    {
      "cell_type": "code",
      "source": [
        "corr = df.drop(columns=['Bankrupt?']).corr()\n",
        "sns.heatmap(corr);"
      ],
      "metadata": {
        "ExecuteTime": {
          "end_time": "2023-03-30T22:46:43.814534Z",
          "start_time": "2023-03-30T22:46:43.250438Z"
        },
        "id": "wx5WY0c3_Wkh",
        "outputId": "ac19fee3-699c-4d29-edd2-6b790c0b2301"
      },
      "execution_count": null,
      "outputs": [
        {
          "output_type": "display_data",
          "data": {
            "image/png": "[encoded data removed]",
            "text/plain": [
              "<Figure size 432x288 with 2 Axes>"
            ]
          },
          "metadata": {
            "needs_background": "light"
          }
        }
      ],
      "id": "wx5WY0c3_Wkh"
    },
    {
      "cell_type": "markdown",
      "source": [
        "## Split"
      ],
      "metadata": {
        "id": "Xda1NgQ4_Wkh"
      },
      "id": "Xda1NgQ4_Wkh"
    },
    {
      "cell_type": "code",
      "source": [
        "target = \"Bankrupt?\"\n",
        "X = df.drop(columns=[target])\n",
        "y = df[target]\n",
        "\n",
        "print(\"X shape:\", X.shape)\n",
        "print(\"y shape:\", y.shape)"
      ],
      "metadata": {
        "ExecuteTime": {
          "end_time": "2023-03-30T22:46:43.829680Z",
          "start_time": "2023-03-30T22:46:43.815667Z"
        },
        "id": "vOSULJwn_Wkh",
        "outputId": "96d6a478-9ba5-48c2-f508-045d0b4da7ca"
      },
      "execution_count": null,
      "outputs": [
        {
          "name": "stdout",
          "output_type": "stream",
          "text": "X shape: (6819, 95)\n\ny shape: (6819,)\n"
        }
      ],
      "id": "vOSULJwn_Wkh"
    },
    {
      "cell_type": "code",
      "source": [
        "X_train , X_test , y_train , y_test = train_test_split(X , y , test_size=0.2 , random_state=42)"
      ],
      "metadata": {
        "ExecuteTime": {
          "end_time": "2023-03-30T22:46:43.845216Z",
          "start_time": "2023-03-30T22:46:43.831682Z"
        },
        "id": "F4M6Qbkp_Wki"
      },
      "execution_count": null,
      "outputs": [],
      "id": "F4M6Qbkp_Wki"
    },
    {
      "cell_type": "code",
      "source": [
        "print(\"X_train shape:\", X_train.shape)\n",
        "print(\"y_train shape:\", y_train.shape)\n",
        "print(\"X_test shape:\", X_test.shape)\n",
        "print(\"y_test shape:\", y_test.shape)"
      ],
      "metadata": {
        "ExecuteTime": {
          "end_time": "2023-03-30T22:46:43.861089Z",
          "start_time": "2023-03-30T22:46:43.846215Z"
        },
        "id": "pjr7pqo-_Wki",
        "outputId": "e94d80ca-b179-45c9-dac7-6f2680d6c79b"
      },
      "execution_count": null,
      "outputs": [
        {
          "name": "stdout",
          "output_type": "stream",
          "text": "X_train shape: (5455, 95)\n\ny_train shape: (5455,)\n\nX_test shape: (1364, 95)\n\ny_test shape: (1364,)\n"
        }
      ],
      "id": "pjr7pqo-_Wki"
    },
    {
      "cell_type": "markdown",
      "source": [
        "## Resample"
      ],
      "metadata": {
        "id": "I3tNw0R5_Wki"
      },
      "id": "I3tNw0R5_Wki"
    },
    {
      "cell_type": "code",
      "source": [
        "over_sampler = RandomOverSampler(random_state=42)\n",
        "X_train_over , y_train_over = over_sampler.fit_resample(X_train , y_train)\n",
        "print(X_train_over.shape)\n",
        "X_train_over.head()"
      ],
      "metadata": {
        "ExecuteTime": {
          "end_time": "2023-03-30T22:46:43.907100Z",
          "start_time": "2023-03-30T22:46:43.862107Z"
        },
        "id": "vqz_QRjw_Wki",
        "outputId": "af1647de-6a3a-4f31-ed29-cbb17fe564b3"
      },
      "execution_count": null,
      "outputs": [
        {
          "name": "stdout",
          "output_type": "stream",
          "text": "(10572, 95)\n"
        },
        {
          "execution_count": 17,
          "output_type": "execute_result",
          "data": {
            "text/html": [
              "<div>\n",
              "<style scoped>\n",
              "    .dataframe tbody tr th:only-of-type {\n",
              "        vertical-align: middle;\n",
              "    }\n",
              "\n",
              "    .dataframe tbody tr th {\n",
              "        vertical-align: top;\n",
              "    }\n",
              "\n",
              "    .dataframe thead th {\n",
              "        text-align: right;\n",
              "    }\n",
              "</style>\n",
              "<table border=\"1\" class=\"dataframe\">\n",
              "  <thead>\n",
              "    <tr style=\"text-align: right;\">\n",
              "      <th></th>\n",
              "      <th>_ROA(C)_before_interest_and_depreciation_before_interest</th>\n",
              "      <th>_ROA(A)_before_interest_and_%_after_tax</th>\n",
              "      <th>_ROA(B)_before_interest_and_depreciation_after_tax</th>\n",
              "      <th>_Operating_Gross_Margin</th>\n",
              "      <th>_Realized_Sales_Gross_Margin</th>\n",
              "      <th>_Operating_Profit_Rate</th>\n",
              "      <th>_Pre-tax_net_Interest_Rate</th>\n",
              "      <th>_After-tax_net_Interest_Rate</th>\n",
              "      <th>_Non-industry_income_and_expenditure/revenue</th>\n",
              "      <th>_Continuous_interest_rate_(after_tax)</th>\n",
              "      <th>...</th>\n",
              "      <th>_Net_Income_to_Total_Assets</th>\n",
              "      <th>_Total_assets_to_GNP_price</th>\n",
              "      <th>_No-credit_Interval</th>\n",
              "      <th>_Gross_Profit_to_Sales</th>\n",
              "      <th>_Net_Income_to_Stockholder's_Equity</th>\n",
              "      <th>_Liability_to_Equity</th>\n",
              "      <th>_Degree_of_Financial_Leverage_(DFL)</th>\n",
              "      <th>_Interest_Coverage_Ratio_(Interest_expense_to_EBIT)</th>\n",
              "      <th>_Net_Income_Flag</th>\n",
              "      <th>_Equity_to_Liability</th>\n",
              "    </tr>\n",
              "  </thead>\n",
              "  <tbody>\n",
              "    <tr>\n",
              "      <th>0</th>\n",
              "      <td>0.498513</td>\n",
              "      <td>0.542848</td>\n",
              "      <td>0.544622</td>\n",
              "      <td>0.599194</td>\n",
              "      <td>0.599036</td>\n",
              "      <td>0.998986</td>\n",
              "      <td>0.797412</td>\n",
              "      <td>0.809330</td>\n",
              "      <td>0.303528</td>\n",
              "      <td>0.781593</td>\n",
              "      <td>...</td>\n",
              "      <td>0.801313</td>\n",
              "      <td>0.005821</td>\n",
              "      <td>0.623649</td>\n",
              "      <td>0.599196</td>\n",
              "      <td>0.840580</td>\n",
              "      <td>0.282564</td>\n",
              "      <td>0.027239</td>\n",
              "      <td>0.566658</td>\n",
              "      <td>1</td>\n",
              "      <td>0.022512</td>\n",
              "    </tr>\n",
              "    <tr>\n",
              "      <th>1</th>\n",
              "      <td>0.506606</td>\n",
              "      <td>0.562309</td>\n",
              "      <td>0.558863</td>\n",
              "      <td>0.609334</td>\n",
              "      <td>0.609334</td>\n",
              "      <td>0.999027</td>\n",
              "      <td>0.797450</td>\n",
              "      <td>0.809375</td>\n",
              "      <td>0.303508</td>\n",
              "      <td>0.781637</td>\n",
              "      <td>...</td>\n",
              "      <td>0.810914</td>\n",
              "      <td>0.000481</td>\n",
              "      <td>0.623932</td>\n",
              "      <td>0.609332</td>\n",
              "      <td>0.841339</td>\n",
              "      <td>0.280570</td>\n",
              "      <td>0.026843</td>\n",
              "      <td>0.565395</td>\n",
              "      <td>1</td>\n",
              "      <td>0.026670</td>\n",
              "    </tr>\n",
              "    <tr>\n",
              "      <th>2</th>\n",
              "      <td>0.508799</td>\n",
              "      <td>0.561001</td>\n",
              "      <td>0.554687</td>\n",
              "      <td>0.614242</td>\n",
              "      <td>0.614055</td>\n",
              "      <td>0.999094</td>\n",
              "      <td>0.797533</td>\n",
              "      <td>0.809424</td>\n",
              "      <td>0.303514</td>\n",
              "      <td>0.781692</td>\n",
              "      <td>...</td>\n",
              "      <td>0.809740</td>\n",
              "      <td>0.001397</td>\n",
              "      <td>0.623714</td>\n",
              "      <td>0.614241</td>\n",
              "      <td>0.840969</td>\n",
              "      <td>0.277772</td>\n",
              "      <td>0.026864</td>\n",
              "      <td>0.565484</td>\n",
              "      <td>1</td>\n",
              "      <td>0.041556</td>\n",
              "    </tr>\n",
              "    <tr>\n",
              "      <th>3</th>\n",
              "      <td>0.499976</td>\n",
              "      <td>0.562527</td>\n",
              "      <td>0.546764</td>\n",
              "      <td>0.597825</td>\n",
              "      <td>0.597825</td>\n",
              "      <td>0.999004</td>\n",
              "      <td>0.797411</td>\n",
              "      <td>0.809329</td>\n",
              "      <td>0.303490</td>\n",
              "      <td>0.781590</td>\n",
              "      <td>...</td>\n",
              "      <td>0.810082</td>\n",
              "      <td>0.000998</td>\n",
              "      <td>0.623986</td>\n",
              "      <td>0.597824</td>\n",
              "      <td>0.841885</td>\n",
              "      <td>0.286871</td>\n",
              "      <td>0.026951</td>\n",
              "      <td>0.565820</td>\n",
              "      <td>1</td>\n",
              "      <td>0.018173</td>\n",
              "    </tr>\n",
              "    <tr>\n",
              "      <th>4</th>\n",
              "      <td>0.477892</td>\n",
              "      <td>0.547700</td>\n",
              "      <td>0.529150</td>\n",
              "      <td>0.600362</td>\n",
              "      <td>0.600362</td>\n",
              "      <td>0.998975</td>\n",
              "      <td>0.797412</td>\n",
              "      <td>0.809333</td>\n",
              "      <td>0.303551</td>\n",
              "      <td>0.781584</td>\n",
              "      <td>...</td>\n",
              "      <td>0.804638</td>\n",
              "      <td>0.002826</td>\n",
              "      <td>0.623845</td>\n",
              "      <td>0.600363</td>\n",
              "      <td>0.840885</td>\n",
              "      <td>0.282073</td>\n",
              "      <td>0.026959</td>\n",
              "      <td>0.565848</td>\n",
              "      <td>1</td>\n",
              "      <td>0.023328</td>\n",
              "    </tr>\n",
              "  </tbody>\n",
              "</table>\n",
              "<p>5 rows × 95 columns</p>\n",
              "</div>"
            ],
            "text/plain": [
              "   _ROA(C)_before_interest_and_depreciation_before_interest  \\\n",
              "0                                           0.498513          \n",
              "1                                           0.506606          \n",
              "2                                           0.508799          \n",
              "3                                           0.499976          \n",
              "4                                           0.477892          \n",
              "\n",
              "   _ROA(A)_before_interest_and_%_after_tax  \\\n",
              "0                                 0.542848   \n",
              "1                                 0.562309   \n",
              "2                                 0.561001   \n",
              "3                                 0.562527   \n",
              "4                                 0.547700   \n",
              "\n",
              "   _ROA(B)_before_interest_and_depreciation_after_tax  \\\n",
              "0                                           0.544622    \n",
              "1                                           0.558863    \n",
              "2                                           0.554687    \n",
              "3                                           0.546764    \n",
              "4                                           0.529150    \n",
              "\n",
              "   _Operating_Gross_Margin  _Realized_Sales_Gross_Margin  \\\n",
              "0                 0.599194                      0.599036   \n",
              "1                 0.609334                      0.609334   \n",
              "2                 0.614242                      0.614055   \n",
              "3                 0.597825                      0.597825   \n",
              "4                 0.600362                      0.600362   \n",
              "\n",
              "   _Operating_Profit_Rate  _Pre-tax_net_Interest_Rate  \\\n",
              "0                0.998986                    0.797412   \n",
              "1                0.999027                    0.797450   \n",
              "2                0.999094                    0.797533   \n",
              "3                0.999004                    0.797411   \n",
              "4                0.998975                    0.797412   \n",
              "\n",
              "   _After-tax_net_Interest_Rate  _Non-industry_income_and_expenditure/revenue  \\\n",
              "0                      0.809330                                      0.303528   \n",
              "1                      0.809375                                      0.303508   \n",
              "2                      0.809424                                      0.303514   \n",
              "3                      0.809329                                      0.303490   \n",
              "4                      0.809333                                      0.303551   \n",
              "\n",
              "   _Continuous_interest_rate_(after_tax)  ...  _Net_Income_to_Total_Assets  \\\n",
              "0                               0.781593  ...                     0.801313   \n",
              "1                               0.781637  ...                     0.810914   \n",
              "2                               0.781692  ...                     0.809740   \n",
              "3                               0.781590  ...                     0.810082   \n",
              "4                               0.781584  ...                     0.804638   \n",
              "\n",
              "   _Total_assets_to_GNP_price  _No-credit_Interval  _Gross_Profit_to_Sales  \\\n",
              "0                    0.005821             0.623649                0.599196   \n",
              "1                    0.000481             0.623932                0.609332   \n",
              "2                    0.001397             0.623714                0.614241   \n",
              "3                    0.000998             0.623986                0.597824   \n",
              "4                    0.002826             0.623845                0.600363   \n",
              "\n",
              "   _Net_Income_to_Stockholder's_Equity  _Liability_to_Equity  \\\n",
              "0                             0.840580              0.282564   \n",
              "1                             0.841339              0.280570   \n",
              "2                             0.840969              0.277772   \n",
              "3                             0.841885              0.286871   \n",
              "4                             0.840885              0.282073   \n",
              "\n",
              "   _Degree_of_Financial_Leverage_(DFL)  \\\n",
              "0                             0.027239   \n",
              "1                             0.026843   \n",
              "2                             0.026864   \n",
              "3                             0.026951   \n",
              "4                             0.026959   \n",
              "\n",
              "   _Interest_Coverage_Ratio_(Interest_expense_to_EBIT)  _Net_Income_Flag  \\\n",
              "0                                           0.566658                   1   \n",
              "1                                           0.565395                   1   \n",
              "2                                           0.565484                   1   \n",
              "3                                           0.565820                   1   \n",
              "4                                           0.565848                   1   \n",
              "\n",
              "   _Equity_to_Liability  \n",
              "0              0.022512  \n",
              "1              0.026670  \n",
              "2              0.041556  \n",
              "3              0.018173  \n",
              "4              0.023328  \n",
              "\n",
              "[5 rows x 95 columns]"
            ]
          },
          "metadata": {}
        }
      ],
      "id": "vqz_QRjw_Wki"
    },
    {
      "cell_type": "markdown",
      "source": [
        "## Build BaseLine"
      ],
      "metadata": {
        "id": "o3ZGQOQ2_Wki"
      },
      "id": "o3ZGQOQ2_Wki"
    },
    {
      "cell_type": "code",
      "source": [
        "acc_baseline = y_train.value_counts(normalize=True).max()\n",
        "print(\"Baseline Accuracy:\", round(acc_baseline, 4))"
      ],
      "metadata": {
        "ExecuteTime": {
          "end_time": "2023-03-30T22:46:43.922331Z",
          "start_time": "2023-03-30T22:46:43.909100Z"
        },
        "id": "KGvMMN6K_Wkj",
        "outputId": "bc3d9653-ae67-4f4c-8d19-87ba722d954a"
      },
      "execution_count": null,
      "outputs": [
        {
          "name": "stdout",
          "output_type": "stream",
          "text": "Baseline Accuracy: 0.969\n"
        }
      ],
      "id": "KGvMMN6K_Wkj"
    },
    {
      "cell_type": "markdown",
      "source": [
        "## iterate"
      ],
      "metadata": {
        "id": "2uKckhSQ_Wkj"
      },
      "id": "2uKckhSQ_Wkj"
    },
    {
      "cell_type": "code",
      "source": [
        "clf = RandomForestClassifier(random_state=42)"
      ],
      "metadata": {
        "ExecuteTime": {
          "end_time": "2023-03-30T22:46:43.938004Z",
          "start_time": "2023-03-30T22:46:43.925333Z"
        },
        "id": "ynsDRxqX_Wkj"
      },
      "execution_count": null,
      "outputs": [],
      "id": "ynsDRxqX_Wkj"
    },
    {
      "cell_type": "code",
      "source": [
        "params= {\n",
        "\n",
        "    \"n_estimators\":range(25 , 100 , 25),\n",
        "    \"max_depth\": range(10 , 70 , 10)\n",
        "\n",
        "}\n",
        "params"
      ],
      "metadata": {
        "ExecuteTime": {
          "end_time": "2023-03-30T22:46:43.952855Z",
          "start_time": "2023-03-30T22:46:43.939004Z"
        },
        "id": "FjUg4Ktj_Wkj",
        "outputId": "ad0d66ca-427a-4b63-8bb0-d3766d9e1dbf"
      },
      "execution_count": null,
      "outputs": [
        {
          "execution_count": 20,
          "output_type": "execute_result",
          "data": {
            "text/plain": [
              "{'n_estimators': range(25, 100, 25), 'max_depth': range(10, 70, 10)}"
            ]
          },
          "metadata": {}
        }
      ],
      "id": "FjUg4Ktj_Wkj"
    },
    {
      "cell_type": "code",
      "source": [
        "model = GridSearchCV(\n",
        "\n",
        "    clf,\n",
        "    param_grid= params,\n",
        "    cv=5,\n",
        "    n_jobs=-1,\n",
        "    verbose= 1\n",
        "\n",
        ")\n",
        "model"
      ],
      "metadata": {
        "ExecuteTime": {
          "end_time": "2023-03-30T22:46:43.967938Z",
          "start_time": "2023-03-30T22:46:43.956862Z"
        },
        "id": "ZHIHRbw5_Wkj",
        "outputId": "93aa0de4-f4b6-45ed-e326-294fd0562258"
      },
      "execution_count": null,
      "outputs": [
        {
          "execution_count": 21,
          "output_type": "execute_result",
          "data": {
            "text/plain": [
              "GridSearchCV(cv=5, estimator=RandomForestClassifier(random_state=42), n_jobs=-1,\n",
              "             param_grid={'max_depth': range(10, 70, 10),\n",
              "                         'n_estimators': range(25, 100, 25)},\n",
              "             verbose=1)"
            ]
          },
          "metadata": {}
        }
      ],
      "id": "ZHIHRbw5_Wkj"
    },
    {
      "cell_type": "code",
      "source": [
        "model.fit(X_train_over , y_train_over)"
      ],
      "metadata": {
        "ExecuteTime": {
          "end_time": "2023-03-30T22:47:02.532144Z",
          "start_time": "2023-03-30T22:46:43.969860Z"
        },
        "id": "krytuVlM_Wkk",
        "outputId": "468e54dd-b526-409c-c6d1-556f035c1c43"
      },
      "execution_count": null,
      "outputs": [
        {
          "name": "stdout",
          "output_type": "stream",
          "text": "Fitting 5 folds for each of 18 candidates, totalling 90 fits\n"
        },
        {
          "execution_count": 22,
          "output_type": "execute_result",
          "data": {
            "text/plain": [
              "GridSearchCV(cv=5, estimator=RandomForestClassifier(random_state=42), n_jobs=-1,\n",
              "             param_grid={'max_depth': range(10, 70, 10),\n",
              "                         'n_estimators': range(25, 100, 25)},\n",
              "             verbose=1)"
            ]
          },
          "metadata": {}
        }
      ],
      "id": "krytuVlM_Wkk"
    },
    {
      "cell_type": "code",
      "source": [
        "cv_results = pd.DataFrame(model.cv_results_)\n",
        "cv_results.sort_values('rank_test_score').head(10)"
      ],
      "metadata": {
        "ExecuteTime": {
          "end_time": "2023-03-30T22:47:02.563876Z",
          "start_time": "2023-03-30T22:47:02.535191Z"
        },
        "id": "uwkzyhn5_Wkk",
        "outputId": "89036454-26f3-43d2-b236-69585ff9d86e"
      },
      "execution_count": null,
      "outputs": [
        {
          "execution_count": 23,
          "output_type": "execute_result",
          "data": {
            "text/html": [
              "<div>\n",
              "<style scoped>\n",
              "    .dataframe tbody tr th:only-of-type {\n",
              "        vertical-align: middle;\n",
              "    }\n",
              "\n",
              "    .dataframe tbody tr th {\n",
              "        vertical-align: top;\n",
              "    }\n",
              "\n",
              "    .dataframe thead th {\n",
              "        text-align: right;\n",
              "    }\n",
              "</style>\n",
              "<table border=\"1\" class=\"dataframe\">\n",
              "  <thead>\n",
              "    <tr style=\"text-align: right;\">\n",
              "      <th></th>\n",
              "      <th>mean_fit_time</th>\n",
              "      <th>std_fit_time</th>\n",
              "      <th>mean_score_time</th>\n",
              "      <th>std_score_time</th>\n",
              "      <th>param_max_depth</th>\n",
              "      <th>param_n_estimators</th>\n",
              "      <th>params</th>\n",
              "      <th>split0_test_score</th>\n",
              "      <th>split1_test_score</th>\n",
              "      <th>split2_test_score</th>\n",
              "      <th>split3_test_score</th>\n",
              "      <th>split4_test_score</th>\n",
              "      <th>mean_test_score</th>\n",
              "      <th>std_test_score</th>\n",
              "      <th>rank_test_score</th>\n",
              "    </tr>\n",
              "  </thead>\n",
              "  <tbody>\n",
              "    <tr>\n",
              "      <th>13</th>\n",
              "      <td>1.809043</td>\n",
              "      <td>0.074637</td>\n",
              "      <td>0.024687</td>\n",
              "      <td>0.003464</td>\n",
              "      <td>50</td>\n",
              "      <td>50</td>\n",
              "      <td>{'max_depth': 50, 'n_estimators': 50}</td>\n",
              "      <td>0.992435</td>\n",
              "      <td>0.995745</td>\n",
              "      <td>0.995270</td>\n",
              "      <td>0.996689</td>\n",
              "      <td>0.995743</td>\n",
              "      <td>0.995176</td>\n",
              "      <td>0.001446</td>\n",
              "      <td>1</td>\n",
              "    </tr>\n",
              "    <tr>\n",
              "      <th>16</th>\n",
              "      <td>1.796869</td>\n",
              "      <td>0.095246</td>\n",
              "      <td>0.020748</td>\n",
              "      <td>0.001465</td>\n",
              "      <td>60</td>\n",
              "      <td>50</td>\n",
              "      <td>{'max_depth': 60, 'n_estimators': 50}</td>\n",
              "      <td>0.992435</td>\n",
              "      <td>0.995745</td>\n",
              "      <td>0.995270</td>\n",
              "      <td>0.996689</td>\n",
              "      <td>0.995743</td>\n",
              "      <td>0.995176</td>\n",
              "      <td>0.001446</td>\n",
              "      <td>1</td>\n",
              "    </tr>\n",
              "    <tr>\n",
              "      <th>10</th>\n",
              "      <td>1.851357</td>\n",
              "      <td>0.159574</td>\n",
              "      <td>0.025049</td>\n",
              "      <td>0.004231</td>\n",
              "      <td>40</td>\n",
              "      <td>50</td>\n",
              "      <td>{'max_depth': 40, 'n_estimators': 50}</td>\n",
              "      <td>0.992435</td>\n",
              "      <td>0.995745</td>\n",
              "      <td>0.994797</td>\n",
              "      <td>0.996216</td>\n",
              "      <td>0.995743</td>\n",
              "      <td>0.994987</td>\n",
              "      <td>0.001357</td>\n",
              "      <td>3</td>\n",
              "    </tr>\n",
              "    <tr>\n",
              "      <th>17</th>\n",
              "      <td>2.019662</td>\n",
              "      <td>0.162893</td>\n",
              "      <td>0.020170</td>\n",
              "      <td>0.000834</td>\n",
              "      <td>60</td>\n",
              "      <td>75</td>\n",
              "      <td>{'max_depth': 60, 'n_estimators': 75}</td>\n",
              "      <td>0.991962</td>\n",
              "      <td>0.995272</td>\n",
              "      <td>0.993851</td>\n",
              "      <td>0.996216</td>\n",
              "      <td>0.994324</td>\n",
              "      <td>0.994325</td>\n",
              "      <td>0.001434</td>\n",
              "      <td>4</td>\n",
              "    </tr>\n",
              "    <tr>\n",
              "      <th>14</th>\n",
              "      <td>2.738430</td>\n",
              "      <td>0.161623</td>\n",
              "      <td>0.032417</td>\n",
              "      <td>0.002589</td>\n",
              "      <td>50</td>\n",
              "      <td>75</td>\n",
              "      <td>{'max_depth': 50, 'n_estimators': 75}</td>\n",
              "      <td>0.991962</td>\n",
              "      <td>0.995272</td>\n",
              "      <td>0.993851</td>\n",
              "      <td>0.996216</td>\n",
              "      <td>0.994324</td>\n",
              "      <td>0.994325</td>\n",
              "      <td>0.001434</td>\n",
              "      <td>4</td>\n",
              "    </tr>\n",
              "    <tr>\n",
              "      <th>11</th>\n",
              "      <td>2.663898</td>\n",
              "      <td>0.134025</td>\n",
              "      <td>0.037202</td>\n",
              "      <td>0.012575</td>\n",
              "      <td>40</td>\n",
              "      <td>75</td>\n",
              "      <td>{'max_depth': 40, 'n_estimators': 75}</td>\n",
              "      <td>0.992435</td>\n",
              "      <td>0.994799</td>\n",
              "      <td>0.994324</td>\n",
              "      <td>0.995270</td>\n",
              "      <td>0.994324</td>\n",
              "      <td>0.994230</td>\n",
              "      <td>0.000964</td>\n",
              "      <td>6</td>\n",
              "    </tr>\n",
              "    <tr>\n",
              "      <th>15</th>\n",
              "      <td>0.929144</td>\n",
              "      <td>0.075277</td>\n",
              "      <td>0.013942</td>\n",
              "      <td>0.000605</td>\n",
              "      <td>60</td>\n",
              "      <td>25</td>\n",
              "      <td>{'max_depth': 60, 'n_estimators': 25}</td>\n",
              "      <td>0.992435</td>\n",
              "      <td>0.994326</td>\n",
              "      <td>0.993851</td>\n",
              "      <td>0.994324</td>\n",
              "      <td>0.994797</td>\n",
              "      <td>0.993946</td>\n",
              "      <td>0.000813</td>\n",
              "      <td>7</td>\n",
              "    </tr>\n",
              "    <tr>\n",
              "      <th>12</th>\n",
              "      <td>0.944883</td>\n",
              "      <td>0.077565</td>\n",
              "      <td>0.015114</td>\n",
              "      <td>0.003998</td>\n",
              "      <td>50</td>\n",
              "      <td>25</td>\n",
              "      <td>{'max_depth': 50, 'n_estimators': 25}</td>\n",
              "      <td>0.992435</td>\n",
              "      <td>0.994326</td>\n",
              "      <td>0.993851</td>\n",
              "      <td>0.994324</td>\n",
              "      <td>0.994797</td>\n",
              "      <td>0.993946</td>\n",
              "      <td>0.000813</td>\n",
              "      <td>7</td>\n",
              "    </tr>\n",
              "    <tr>\n",
              "      <th>9</th>\n",
              "      <td>0.989073</td>\n",
              "      <td>0.038316</td>\n",
              "      <td>0.015461</td>\n",
              "      <td>0.001104</td>\n",
              "      <td>40</td>\n",
              "      <td>25</td>\n",
              "      <td>{'max_depth': 40, 'n_estimators': 25}</td>\n",
              "      <td>0.992908</td>\n",
              "      <td>0.994326</td>\n",
              "      <td>0.993851</td>\n",
              "      <td>0.993851</td>\n",
              "      <td>0.994797</td>\n",
              "      <td>0.993946</td>\n",
              "      <td>0.000627</td>\n",
              "      <td>9</td>\n",
              "    </tr>\n",
              "    <tr>\n",
              "      <th>8</th>\n",
              "      <td>2.632527</td>\n",
              "      <td>0.199145</td>\n",
              "      <td>0.030365</td>\n",
              "      <td>0.000355</td>\n",
              "      <td>30</td>\n",
              "      <td>75</td>\n",
              "      <td>{'max_depth': 30, 'n_estimators': 75}</td>\n",
              "      <td>0.992435</td>\n",
              "      <td>0.992908</td>\n",
              "      <td>0.993377</td>\n",
              "      <td>0.994324</td>\n",
              "      <td>0.992904</td>\n",
              "      <td>0.993190</td>\n",
              "      <td>0.000641</td>\n",
              "      <td>10</td>\n",
              "    </tr>\n",
              "  </tbody>\n",
              "</table>\n",
              "</div>"
            ],
            "text/plain": [
              "    mean_fit_time  std_fit_time  mean_score_time  std_score_time  \\\n",
              "13       1.809043      0.074637         0.024687        0.003464   \n",
              "16       1.796869      0.095246         0.020748        0.001465   \n",
              "10       1.851357      0.159574         0.025049        0.004231   \n",
              "17       2.019662      0.162893         0.020170        0.000834   \n",
              "14       2.738430      0.161623         0.032417        0.002589   \n",
              "11       2.663898      0.134025         0.037202        0.012575   \n",
              "15       0.929144      0.075277         0.013942        0.000605   \n",
              "12       0.944883      0.077565         0.015114        0.003998   \n",
              "9        0.989073      0.038316         0.015461        0.001104   \n",
              "8        2.632527      0.199145         0.030365        0.000355   \n",
              "\n",
              "   param_max_depth param_n_estimators                                 params  \\\n",
              "13              50                 50  {'max_depth': 50, 'n_estimators': 50}   \n",
              "16              60                 50  {'max_depth': 60, 'n_estimators': 50}   \n",
              "10              40                 50  {'max_depth': 40, 'n_estimators': 50}   \n",
              "17              60                 75  {'max_depth': 60, 'n_estimators': 75}   \n",
              "14              50                 75  {'max_depth': 50, 'n_estimators': 75}   \n",
              "11              40                 75  {'max_depth': 40, 'n_estimators': 75}   \n",
              "15              60                 25  {'max_depth': 60, 'n_estimators': 25}   \n",
              "12              50                 25  {'max_depth': 50, 'n_estimators': 25}   \n",
              "9               40                 25  {'max_depth': 40, 'n_estimators': 25}   \n",
              "8               30                 75  {'max_depth': 30, 'n_estimators': 75}   \n",
              "\n",
              "    split0_test_score  split1_test_score  split2_test_score  \\\n",
              "13           0.992435           0.995745           0.995270   \n",
              "16           0.992435           0.995745           0.995270   \n",
              "10           0.992435           0.995745           0.994797   \n",
              "17           0.991962           0.995272           0.993851   \n",
              "14           0.991962           0.995272           0.993851   \n",
              "11           0.992435           0.994799           0.994324   \n",
              "15           0.992435           0.994326           0.993851   \n",
              "12           0.992435           0.994326           0.993851   \n",
              "9            0.992908           0.994326           0.993851   \n",
              "8            0.992435           0.992908           0.993377   \n",
              "\n",
              "    split3_test_score  split4_test_score  mean_test_score  std_test_score  \\\n",
              "13           0.996689           0.995743         0.995176        0.001446   \n",
              "16           0.996689           0.995743         0.995176        0.001446   \n",
              "10           0.996216           0.995743         0.994987        0.001357   \n",
              "17           0.996216           0.994324         0.994325        0.001434   \n",
              "14           0.996216           0.994324         0.994325        0.001434   \n",
              "11           0.995270           0.994324         0.994230        0.000964   \n",
              "15           0.994324           0.994797         0.993946        0.000813   \n",
              "12           0.994324           0.994797         0.993946        0.000813   \n",
              "9            0.993851           0.994797         0.993946        0.000627   \n",
              "8            0.994324           0.992904         0.993190        0.000641   \n",
              "\n",
              "    rank_test_score  \n",
              "13                1  \n",
              "16                1  \n",
              "10                3  \n",
              "17                4  \n",
              "14                4  \n",
              "11                6  \n",
              "15                7  \n",
              "12                7  \n",
              "9                 9  \n",
              "8                10  "
            ]
          },
          "metadata": {}
        }
      ],
      "id": "uwkzyhn5_Wkk"
    },
    {
      "cell_type": "code",
      "source": [
        "model.best_params_"
      ],
      "metadata": {
        "ExecuteTime": {
          "end_time": "2023-03-30T22:47:02.579924Z",
          "start_time": "2023-03-30T22:47:02.565877Z"
        },
        "id": "NdxREXwu_Wkm",
        "outputId": "71ee7e17-623e-4086-8867-23640541f311"
      },
      "execution_count": null,
      "outputs": [
        {
          "execution_count": 24,
          "output_type": "execute_result",
          "data": {
            "text/plain": [
              "{'max_depth': 50, 'n_estimators': 50}"
            ]
          },
          "metadata": {}
        }
      ],
      "id": "NdxREXwu_Wkm"
    },
    {
      "cell_type": "code",
      "source": [
        "model.predict(X_train_over)"
      ],
      "metadata": {
        "ExecuteTime": {
          "end_time": "2023-03-30T22:47:02.641791Z",
          "start_time": "2023-03-30T22:47:02.581061Z"
        },
        "id": "kp8N3xpf_Wkn",
        "outputId": "ecde2ee4-f441-431c-8bd0-adf59b1b24ef"
      },
      "execution_count": null,
      "outputs": [
        {
          "execution_count": 25,
          "output_type": "execute_result",
          "data": {
            "text/plain": [
              "array([0, 0, 0, ..., 1, 1, 1], dtype=int64)"
            ]
          },
          "metadata": {}
        }
      ],
      "id": "kp8N3xpf_Wkn"
    },
    {
      "cell_type": "markdown",
      "source": [
        "## Evaluate"
      ],
      "metadata": {
        "id": "13m-FsRG_Wkn"
      },
      "id": "13m-FsRG_Wkn"
    },
    {
      "cell_type": "code",
      "source": [
        "acc_train = model.score(X_train_over , y_train_over)\n",
        "acc_test = model.score(X_test , y_test)\n",
        "\n",
        "print(f\"Training accuracy: {round(acc_train , 4)}\")\n",
        "print(f\"test accuracy: {round(acc_test , 4)}\")"
      ],
      "metadata": {
        "ExecuteTime": {
          "end_time": "2023-03-30T22:47:02.720332Z",
          "start_time": "2023-03-30T22:47:02.642734Z"
        },
        "id": "0Fy0lmaE_Wkn",
        "outputId": "f4cfb542-ce9d-4af9-c03f-b5e52527e460"
      },
      "execution_count": null,
      "outputs": [
        {
          "name": "stdout",
          "output_type": "stream",
          "text": "Training accuracy: 1.0\n\ntest accuracy: 0.967\n"
        }
      ],
      "id": "0Fy0lmaE_Wkn"
    },
    {
      "cell_type": "markdown",
      "source": [
        "## Let's make a confusion matrix to see how our model is making its correct and incorrect predictions."
      ],
      "metadata": {
        "id": "7cR0IVjJ_Wkn"
      },
      "id": "7cR0IVjJ_Wkn"
    },
    {
      "cell_type": "code",
      "source": [
        "ConfusionMatrixDisplay.from_estimator(\n",
        "\n",
        "    model,\n",
        "    X_test,\n",
        "    y_test\n",
        "\n",
        ");"
      ],
      "metadata": {
        "ExecuteTime": {
          "end_time": "2023-03-30T22:47:02.832229Z",
          "start_time": "2023-03-30T22:47:02.722333Z"
        },
        "id": "B8dQS471_Wkr",
        "outputId": "c96efc95-adbf-43a0-bf79-6d28f826bab0"
      },
      "execution_count": null,
      "outputs": [
        {
          "output_type": "display_data",
          "data": {
            "image/png": "[encoded data removed]",
            "text/plain": [
              "<Figure size 432x288 with 2 Axes>"
            ]
          },
          "metadata": {
            "needs_background": "light"
          }
        }
      ],
      "id": "B8dQS471_Wkr"
    },
    {
      "cell_type": "markdown",
      "source": [
        "## Let`s make a Classification report to look at the whole picture of the classification model performances. A classification report includes precision, recall, F1 score and support."
      ],
      "metadata": {
        "id": "NhAXhkDr_Wkr"
      },
      "id": "NhAXhkDr_Wkr"
    },
    {
      "cell_type": "code",
      "source": [
        "print(classification_report(\n",
        "\n",
        "    y_test,\n",
        "    model.predict(X_test)\n",
        "\n",
        "))"
      ],
      "metadata": {
        "ExecuteTime": {
          "end_time": "2023-03-30T22:47:02.863829Z",
          "start_time": "2023-03-30T22:47:02.836176Z"
        },
        "id": "pS3NCzfM_Wkr",
        "outputId": "a37985c7-49a6-4c8f-e425-f7c785894bd2"
      },
      "execution_count": null,
      "outputs": [
        {
          "name": "stdout",
          "output_type": "stream",
          "text": "              precision    recall  f1-score   support\n\n\n\n           0       0.97      0.99      0.98      1313\n\n           1       0.62      0.31      0.42        51\n\n\n\n    accuracy                           0.97      1364\n\n   macro avg       0.79      0.65      0.70      1364\n\nweighted avg       0.96      0.97      0.96      1364\n\n\n"
        }
      ],
      "id": "pS3NCzfM_Wkr"
    },
    {
      "cell_type": "markdown",
      "source": [
        "## Communication"
      ],
      "metadata": {
        "id": "2WQ8gr4u_Wks"
      },
      "id": "2WQ8gr4u_Wks"
    },
    {
      "cell_type": "code",
      "source": [
        "features = X_test.columns\n",
        "importances = model.best_estimator_.feature_importances_"
      ],
      "metadata": {
        "ExecuteTime": {
          "end_time": "2023-03-30T22:48:03.380810Z",
          "start_time": "2023-03-30T22:48:03.353166Z"
        },
        "id": "X5e3kq2D_Wks"
      },
      "execution_count": null,
      "outputs": [],
      "id": "X5e3kq2D_Wks"
    },
    {
      "cell_type": "code",
      "source": [
        "feat_imp = pd.Series(importances , index=features).sort_values()\n",
        "feat_imp.tail().plot(kind= 'barh')\n",
        "plt.xlabel(\"Gini Importance\")\n",
        "plt.ylabel(\"Feature\")\n",
        "plt.title(\"Feature Importance\");"
      ],
      "metadata": {
        "ExecuteTime": {
          "end_time": "2023-03-30T22:48:15.304886Z",
          "start_time": "2023-03-30T22:48:15.209014Z"
        },
        "id": "8bqsNBS5_Wks",
        "outputId": "9a3a7dc2-2fdf-4718-f898-2ce4b4d703fb"
      },
      "execution_count": null,
      "outputs": [
        {
          "output_type": "display_data",
          "data": {
            "image/png": "[encoded data removed]",
            "text/plain": [
              "<Figure size 432x288 with 1 Axes>"
            ]
          },
          "metadata": {
            "needs_background": "light"
          }
        }
      ],
      "id": "8bqsNBS5_Wks"
    },
    {
      "cell_type": "code",
      "source": [
        "with open(\"model-1\" , \"wb\") as f:\n",
        "    pickle.dump(model ,f)"
      ],
      "metadata": {
        "ExecuteTime": {
          "end_time": "2023-03-30T22:48:17.516807Z",
          "start_time": "2023-03-30T22:48:17.499679Z"
        },
        "id": "HCgE4DTq_Wks"
      },
      "execution_count": null,
      "outputs": [],
      "id": "HCgE4DTq_Wks"
    }
  ]
}